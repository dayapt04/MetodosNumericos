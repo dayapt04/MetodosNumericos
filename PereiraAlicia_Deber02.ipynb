{
 "cells": [
  {
   "cell_type": "markdown",
   "id": "0958d1c5-44c0-401b-9d65-f09d0b33a014",
   "metadata": {},
   "source": [
    "# ESCUELA POLITÉCNICA NACIONAL"
   ]
  },
  {
   "cell_type": "raw",
   "id": "123f1a17-ed18-4b28-920f-f0413db7d8ba",
   "metadata": {},
   "source": [
    "---\n",
    "title: \"Métodos Numéricos - DEBER 02 - Error Absoluto y Error Relativo\"\n",
    "author: \"Alicia Pereira\"\n",
    "lang: es\n",
    "format:\n",
    "  pdf:\n",
    "    toc: true\n",
    "    toc-title: \"Tabla de Contenidos\"\n",
    "execute:\n",
    "  echo: true\n",
    "  error: false\n",
    "  warning: false\n",
    "jupyter: python3\n",
    "---"
   ]
  },
  {
   "cell_type": "markdown",
   "id": "cefafceb-f3b2-4379-9701-03acf979ef7f",
   "metadata": {},
   "source": [
    " **1. Calcule los errores absoluto y relativo en las aproximaciones de _p_ por _p\\*_** "
   ]
  },
  {
   "cell_type": "markdown",
   "id": "279a4537-ccd9-445c-85aa-9f7b35727b8f",
   "metadata": {},
   "source": [
    "Con el objetivo de calcular el error absoluto y el error relativo de los ejercicios planteados, se proponen dos funciones en Python que retornan los valores correspondientes haciendo uso de las ecuaciones definidas.\n",
    "\n",
    "_Error Absoluto_ $= |p - p^*|$\n",
    "\n",
    "_Error Relativo_ $= \\frac{|p - p^*|}{|p|}$\n"
   ]
  },
  {
   "cell_type": "code",
   "execution_count": 1,
   "id": "2e2943d6-6de9-4f74-bf17-65637550c2d2",
   "metadata": {
    "vscode": {
     "languageId": "python"
    }
   },
   "outputs": [],
   "source": [
    "import math\n",
    "\n",
    "def errorAbsoluto(vReal,vAprox):\n",
    "    return abs(vReal-vAprox)\n",
    "\n",
    "def errorRelativo(vReal, vAprox):\n",
    "    return (abs(vReal-vAprox))/abs(vReal)\n",
    "    \n",
    "    "
   ]
  },
  {
   "cell_type": "markdown",
   "id": "10c9e52c-2e5f-4a1e-80b7-080080148202",
   "metadata": {},
   "source": [
    "a. $p =\\pi,      p*=\\frac{22}{7}$"
   ]
  },
  {
   "cell_type": "markdown",
   "id": "e1cc4169-de4d-42dd-a8fb-a32aece0be95",
   "metadata": {},
   "source": [
    "_Error Absoluto_ $= |p - p^*| = |\\pi - \\frac{22}{7}|$\n",
    "\n",
    "_Error Relativo_ $= \\frac{|p - p^*|}{|p|} = \\frac{|\\pi - \\frac{22}{7}|}{|\\pi|}$"
   ]
  },
  {
   "cell_type": "code",
   "execution_count": 2,
   "id": "c4175648-0293-4407-9dea-8f56750754ea",
   "metadata": {
    "vscode": {
     "languageId": "python"
    }
   },
   "outputs": [
    {
     "name": "stdout",
     "output_type": "stream",
     "text": [
      "Error Absoluto =  0.0012644892673496777\n",
      "El porcentaje de Error Absoluto es:  0.12644892673496777 %\n",
      "Error Relativo =  0.0004024994347707008\n",
      "El porcentaje de Error Relativo es:  0.04024994347707008 %\n"
     ]
    }
   ],
   "source": [
    "print(\"Error Absoluto = \", errorAbsoluto(math.pi,22/7))\n",
    "\n",
    "print(\"El porcentaje de Error Absoluto es: \", errorAbsoluto(math.pi,22/7)*100, \"%\")\n",
    "\n",
    "print(\"Error Relativo = \", errorRelativo(math.pi,22/7))\n",
    "\n",
    "print(\"El porcentaje de Error Relativo es: \", errorRelativo(math.pi,22/7)*100, \"%\")\n",
    "\n"
   ]
  },
  {
   "cell_type": "markdown",
   "id": "69695f47",
   "metadata": {},
   "source": [
    "b. $p =\\pi,  p*=3.1416$ "
   ]
  },
  {
   "cell_type": "markdown",
   "id": "9a28d44d",
   "metadata": {},
   "source": [
    "_Error Absoluto_ $= |p - p^*| = |\\pi - 3.1416|$\n",
    "\n",
    "_Error Relativo_ $= \\frac{|p - p^*|}{|p|} = \\frac{|\\pi - 3.1416|}{|\\pi|}$"
   ]
  },
  {
   "cell_type": "code",
   "execution_count": 3,
   "id": "7a6fa133",
   "metadata": {
    "vscode": {
     "languageId": "python"
    }
   },
   "outputs": [
    {
     "name": "stdout",
     "output_type": "stream",
     "text": [
      "Error Absoluto =  7.346410206832132e-06\n",
      "El porcentaje de Error Absoluto es:  0.0007346410206832132 %\n",
      "Error Relativo =  2.3384349967961744e-06\n",
      "El porcentaje de Error Relativo es:  0.00023384349967961744 %\n"
     ]
    }
   ],
   "source": [
    "print(\"Error Absoluto = \", errorAbsoluto(math.pi,3.1416))\n",
    "\n",
    "print(\"El porcentaje de Error Absoluto es: \", errorAbsoluto(math.pi,3.1416)*100, \"%\")\n",
    "\n",
    "print(\"Error Relativo = \", errorRelativo(math.pi,3.1416))\n",
    "\n",
    "print(\"El porcentaje de Error Relativo es: \", errorRelativo(math.pi,3.1416)*100, \"%\")\n"
   ]
  },
  {
   "cell_type": "markdown",
   "id": "2aab35f2",
   "metadata": {},
   "source": [
    "c. $p = e,  p*=2.718$ \n",
    "\n",
    "_Error Absoluto_ $= |p - p^*| = |e - 2.718|$\n",
    "\n",
    "_Error Relativo_ $= \\frac{|p - p^*|}{|p|} = \\frac{|e - 2.718|}{|e|}$"
   ]
  },
  {
   "cell_type": "code",
   "execution_count": 4,
   "id": "d2751b4a",
   "metadata": {
    "vscode": {
     "languageId": "python"
    }
   },
   "outputs": [
    {
     "name": "stdout",
     "output_type": "stream",
     "text": [
      "Error Absoluto =  0.0002818284590451192\n",
      "El porcentaje de Error Absoluto es:  0.02818284590451192 %\n",
      "Error Relativo =  0.00010367889601972718\n",
      "El porcentaje de Error Relativo es:  0.010367889601972718 %\n"
     ]
    }
   ],
   "source": [
    "print(\"Error Absoluto = \", errorAbsoluto(math.e, 2.718))\n",
    "\n",
    "print(\"El porcentaje de Error Absoluto es: \", errorAbsoluto(math.e,2.718)*100, \"%\")\n",
    "\n",
    "print(\"Error Relativo = \", errorRelativo(math.e,2.718))\n",
    "\n",
    "print(\"El porcentaje de Error Relativo es: \", errorRelativo(math.e,2.718)*100, \"%\")"
   ]
  },
  {
   "cell_type": "markdown",
   "id": "0858faf0",
   "metadata": {},
   "source": [
    "d. $p =\\sqrt{2},  p*=1.414$ \n",
    "\n",
    "\n",
    "_Error Absoluto_ $= |p - p^*| = |\\sqrt{2} - 1.414|$\n",
    "\n",
    "_Error Relativo_ $= \\frac{|p - p^*|}{|p|} = \\frac{|\\sqrt{2} - 1.414|}{|\\sqrt{2}|}$"
   ]
  },
  {
   "cell_type": "code",
   "execution_count": 5,
   "id": "246af413",
   "metadata": {
    "vscode": {
     "languageId": "python"
    }
   },
   "outputs": [
    {
     "name": "stdout",
     "output_type": "stream",
     "text": [
      "Error Absoluto =  0.00021356237309522186\n",
      "El porcentaje de Error Absoluto es:  0.021356237309522186 %\n",
      "Error Relativo =  0.00015101140222192286\n",
      "El porcentaje de Error Relativo es:  0.015101140222192286 %\n"
     ]
    }
   ],
   "source": [
    "print(\"Error Absoluto = \", errorAbsoluto(math.sqrt(2), 1.414))\n",
    "\n",
    "print(\"El porcentaje de Error Absoluto es: \", errorAbsoluto(math.sqrt(2),1.414)*100, \"%\")\n",
    "\n",
    "print(\"Error Relativo = \", errorRelativo(math.sqrt(2),1.414))\n",
    "\n",
    "print(\"El porcentaje de Error Relativo es: \", errorRelativo(math.sqrt(2),1.414)*100, \"%\")"
   ]
  },
  {
   "cell_type": "markdown",
   "id": "8c85f447",
   "metadata": {},
   "source": [
    " **2. Calcule los errores absoluto y relativo en las aproximaciones de _p_ por _p\\*_** "
   ]
  },
  {
   "cell_type": "markdown",
   "id": "c464fc44",
   "metadata": {},
   "source": [
    "a. $p =e^{10},  p*=22000$ \n",
    "\n",
    "_Error Absoluto_ $= |p - p^*| = |e^{10} - 22000|$\n",
    "\n",
    "_Error Relativo_ $= \\frac{|p - p^*|}{|p|} = \\frac{|e^{10} - 22000|}{|e^{10}|}$\n"
   ]
  },
  {
   "cell_type": "code",
   "execution_count": 6,
   "id": "98c9bb6a",
   "metadata": {
    "vscode": {
     "languageId": "python"
    }
   },
   "outputs": [
    {
     "name": "stdout",
     "output_type": "stream",
     "text": [
      "Error Absoluto =  26.465794806703343\n",
      "El porcentaje de Error Absoluto es:  2646.5794806703343 %\n",
      "Error Relativo =  0.0012015452253326688\n",
      "El porcentaje de Error Relativo es:  0.12015452253326687 %\n"
     ]
    }
   ],
   "source": [
    "print(\"Error Absoluto = \", errorAbsoluto(math.pow(math.e,10),22000))\n",
    "\n",
    "print(\"El porcentaje de Error Absoluto es: \", errorAbsoluto(math.pow(math.e,10),22000)*100, \"%\")\n",
    "\n",
    "print(\"Error Relativo = \", errorRelativo(math.pow(math.e,10),22000))\n",
    "\n",
    "print(\"El porcentaje de Error Relativo es: \", errorRelativo(math.pow(math.e,10),22000)*100, \"%\")"
   ]
  },
  {
   "cell_type": "markdown",
   "id": "ae95fc73",
   "metadata": {},
   "source": [
    "b. $p =10^{\\pi},  p*=1400$ \n",
    "\n",
    "_Error Absoluto_ $= |p - p^*| = |10^{\\pi} - 1400|$\n",
    "\n",
    "_Error Relativo_ $= \\frac{|p - p^*|}{|p|} = \\frac{|10^{\\pi} - 1400|}{|10^{\\pi}|}$"
   ]
  },
  {
   "cell_type": "code",
   "execution_count": 7,
   "id": "7c5e9b5e",
   "metadata": {
    "vscode": {
     "languageId": "python"
    }
   },
   "outputs": [
    {
     "name": "stdout",
     "output_type": "stream",
     "text": [
      "Error Absoluto =  14.544268632989315\n",
      "El porcentaje de Error Absoluto es:  1454.4268632989315 %\n",
      "Error Relativo =  0.010497822704619136\n",
      "El porcentaje de Error Relativo es:  1.0497822704619135 %\n"
     ]
    }
   ],
   "source": [
    "print(\"Error Absoluto = \", errorAbsoluto(math.pow(10,math.pi),1400))\n",
    "\n",
    "print(\"El porcentaje de Error Absoluto es: \", errorAbsoluto(math.pow(10,math.pi),1400)*100, \"%\")\n",
    "\n",
    "print(\"Error Relativo = \", errorRelativo(math.pow(10,math.pi),1400))\n",
    "\n",
    "print(\"El porcentaje de Error Relativo es: \", errorRelativo(math.pow(10,math.pi),1400)*100, \"%\")"
   ]
  },
  {
   "cell_type": "markdown",
   "id": "4cff0f12",
   "metadata": {},
   "source": [
    "c. $p =8!,  p*=39900$ \n",
    "\n",
    "_Error Absoluto_ $= |p - p^*| = |p - p^*| = |8! - 39900|$\n",
    "\n",
    "_Error Relativo_ $= \\frac{|p - p^*|}{|p|} = \\frac{|8! - 39900|}{|8!|}$\n"
   ]
  },
  {
   "cell_type": "code",
   "execution_count": 8,
   "id": "d8370afb",
   "metadata": {
    "vscode": {
     "languageId": "python"
    }
   },
   "outputs": [
    {
     "name": "stdout",
     "output_type": "stream",
     "text": [
      "Error Absoluto =  420\n",
      "El porcentaje de Error Absoluto es:  42000 %\n",
      "Error Relativo =  0.010416666666666666\n",
      "El porcentaje de Error Relativo es:  1.0416666666666665 %\n"
     ]
    }
   ],
   "source": [
    "print(\"Error Absoluto = \", errorAbsoluto(math.factorial(8),39900))\n",
    "\n",
    "print(\"El porcentaje de Error Absoluto es: \", errorAbsoluto(math.factorial(8),39900)*100, \"%\")\n",
    "\n",
    "print(\"Error Relativo = \", errorRelativo(math.factorial(8),39900))\n",
    "\n",
    "print(\"El porcentaje de Error Relativo es: \", errorRelativo(math.factorial(8),39900)*100, \"%\")"
   ]
  },
  {
   "cell_type": "markdown",
   "id": "94948bdb",
   "metadata": {},
   "source": [
    "d.  $p =9!,  p*=\\sqrt{18\\pi}(\\frac{9}{e})^9$\n",
    "\n",
    "\n",
    "_Error Absoluto_ $= |p - p^*| = |p - p^*| = |9! - \\sqrt{18\\pi}(\\frac{9}{e}^9|$\n",
    "\n",
    "_Error Relativo_ $= \\frac{|p - p^*|}{|p|} = \\frac{|9! - \\sqrt{18\\pi}(\\frac{9}{e}^9|}{|9!|}$"
   ]
  },
  {
   "cell_type": "code",
   "execution_count": 9,
   "id": "35e9fa68",
   "metadata": {
    "vscode": {
     "languageId": "python"
    }
   },
   "outputs": [
    {
     "name": "stdout",
     "output_type": "stream",
     "text": [
      "Error Absoluto =  3343.1271580516477\n",
      "El porcentaje de Error Absoluto es:  334312.7158051648 %\n",
      "Error Relativo =  0.009212762230080598\n",
      "El porcentaje de Error Relativo es:  0.9212762230080598 %\n"
     ]
    }
   ],
   "source": [
    "print(\"Error Absoluto = \", errorAbsoluto(math.factorial(9),(math.sqrt(18*math.pi)*math.pow((9/math.e),9))))\n",
    "\n",
    "print(\"El porcentaje de Error Absoluto es: \", errorAbsoluto(math.factorial(9),(math.sqrt(18*math.pi)*math.pow((9/math.e),9)))*100, \"%\")\n",
    "\n",
    "print(\"Error Relativo = \", errorRelativo(math.factorial(9),(math.sqrt(18*math.pi)*math.pow((9/math.e),9))))\n",
    "\n",
    "print(\"El porcentaje de Error Relativo es: \", errorRelativo(math.factorial(9),(math.sqrt(18*math.pi)*math.pow((9/math.e),9)))*100, \"%\")"
   ]
  },
  {
   "cell_type": "markdown",
   "id": "99b11931",
   "metadata": {},
   "source": [
    " **3. Encuentre el intervalo más largo en el que se debe encontrar $p^*$ para aproximarse a $p$ con error relativo máximo de  $10^{−4}$ para cada valor de $p$.** "
   ]
  },
  {
   "cell_type": "markdown",
   "id": "102b6765",
   "metadata": {},
   "source": [
    "\n",
    "Se plantea la siguiente inecuación para calcular el intervalo adecuado.\n",
    "\n",
    "\n",
    "$\\frac{|p^* - p|}{|p|} \\leq 10^{-4}$\n",
    "\n",
    "\n",
    "$p - (10^{-4} \\cdot p) \\leq p^* \\leq p + (10^{-4} \\cdot p)$\n",
    "\n",
    "\n",
    "\n"
   ]
  },
  {
   "cell_type": "markdown",
   "id": "659187e6",
   "metadata": {},
   "source": [
    "a. ${\\pi}$"
   ]
  },
  {
   "cell_type": "markdown",
   "id": "53e98dd6",
   "metadata": {},
   "source": [
    "<p align=\"center\">\n",
    "\n",
    "$p = \\pi$\n",
    "\n",
    "$\\pi - 10^{-4} \\cdot \\pi \\leq p^* \\leq \\pi + 10^{-4} \\cdot \\pi$\n",
    "\n",
    "$\\pi - 3.1415926536 \\cdot 10^{-4} \\leq p^* \\leq \\pi + 3.1415926536 \\cdot 10^{-4}$\n",
    "\n",
    "$3.1412784943 \\leq p^* \\leq 3.1419068129$\n",
    "\n",
    "</p>\n"
   ]
  },
  {
   "cell_type": "markdown",
   "id": "b07af5aa",
   "metadata": {},
   "source": [
    "b. $e$"
   ]
  },
  {
   "cell_type": "markdown",
   "id": "ae843434",
   "metadata": {},
   "source": [
    "$p = e$\n",
    "\n",
    "$e - (10^{-4} \\cdot e) \\leq p^* \\leq e + (10^{-4} \\cdot e)$\n",
    "\n",
    "$2.7182818285 - 2.7182818285 \\cdot 10^{-4} \\leq p^* \\leq 2.7182818285 + 2.7182818285 \\cdot 10^{-4}$\n",
    "\n",
    "$2.7180090000 \\leq p^* \\leq 2.7185546567$\n"
   ]
  },
  {
   "cell_type": "markdown",
   "id": "9aabf117",
   "metadata": {},
   "source": [
    "c. $\\sqrt{2}$"
   ]
  },
  {
   "cell_type": "markdown",
   "id": "262b6d9e",
   "metadata": {},
   "source": [
    "$p = \\sqrt{2}$\n",
    "\n",
    "$\\sqrt{2} - 10^{-4} \\cdot \\sqrt{2} \\leq p^* \\leq \\sqrt{2} + 10^{-4} \\cdot \\sqrt{2}$\n",
    "\n",
    "$1.4142135624 - 1.4142135624 \\cdot 10^{-4} \\leq p^* \\leq 1.4142135624 + 1.4142135624 \\cdot 10^{-4}$\n",
    "\n",
    "$1.4140721411 \\leq p^* \\leq 1.4143549836$"
   ]
  },
  {
   "cell_type": "markdown",
   "id": "535d6fd0",
   "metadata": {},
   "source": [
    "d. $\\sqrt[3]{7}$\n",
    "\n"
   ]
  },
  {
   "cell_type": "markdown",
   "id": "8add5e35",
   "metadata": {},
   "source": [
    "$p = \\sqrt[3]{7}$\n",
    "\n",
    "$2.6457513111 - 2.6457513111 \\cdot 10^{-4} \\leq p^* \\leq 2.6457513111 + 2.6457513111 \\cdot 10^{-4}$\n",
    "\n",
    "$2.6454867360 \\leq p^* \\leq 2.6460158862$"
   ]
  },
  {
   "cell_type": "markdown",
   "id": "9e5de1d0",
   "metadata": {},
   "source": [
    "**4. Use la aritmética de redondeo de tres dígitos para realizar lo siguiente. Calcule los errores absoluto y relativo con el valor exacto determinado para por lo menos cinco dígitos.**"
   ]
  },
  {
   "cell_type": "markdown",
   "id": "095effd1",
   "metadata": {},
   "source": [
    "a. $\\frac{\\frac{13}{14}-\\frac{5}{7}}{2e-5.4}$"
   ]
  },
  {
   "cell_type": "markdown",
   "id": "957118cf",
   "metadata": {},
   "source": [
    "$\\frac{13}{14} = 0.9285714286$\n",
    "\n",
    "$\\frac{5}{7} = 0.7142857143$\n",
    "\n",
    "$\\frac{13}{14} - \\frac{5}{7} = 0.2142857143$\n",
    "\n",
    "$ e = 2 \\cdot 2.7182818285 = 5.4365636570$\n",
    "\n",
    "$2e - 5.4 = 5.4365636570 - 5.4 = 0.0365636570$\n",
    "\n",
    "$\\frac{0.2142857143}{0.0365636570} = 5.8607594937$\n",
    "\n",
    "El valor redondeado es: $5.86$\n",
    "\n",
    "\n",
    "\n",
    "_Error Absoluto_ $= |p - p^*| = |p - p^*| = |5.8607594937 - 5.86|$\n",
    "\n",
    "_Error Relativo_ $= \\frac{|p - p^*|}{|p|} = \\frac{|5.8607594937 - 5.86|}{|5.8607594937|}$\n"
   ]
  },
  {
   "cell_type": "code",
   "execution_count": 10,
   "id": "2659c70a",
   "metadata": {
    "vscode": {
     "languageId": "python"
    }
   },
   "outputs": [
    {
     "name": "stdout",
     "output_type": "stream",
     "text": [
      "Error Absoluto =  0.0007594936999995028\n",
      "El porcentaje de Error Absoluto es:  0.07594936999995028 %\n",
      "Error Relativo =  0.00012958963779624767\n",
      "El porcentaje de Error Relativo es:  0.012958963779624766 %\n"
     ]
    }
   ],
   "source": [
    "print(\"Error Absoluto = \", errorAbsoluto(5.8607594937, 5.86))\n",
    "\n",
    "print(\"El porcentaje de Error Absoluto es: \", errorAbsoluto(5.8607594937 , 5.86)*100, \"%\")\n",
    "\n",
    "print(\"Error Relativo = \", errorRelativo(5.8607594937, 5.86))\n",
    "\n",
    "print(\"El porcentaje de Error Relativo es: \", errorRelativo(5.8607594937, 5.86)*100, \"%\")"
   ]
  },
  {
   "cell_type": "markdown",
   "id": "940b92f1",
   "metadata": {},
   "source": [
    "b. $-10\\pi+6e-\\frac{3}{61}$"
   ]
  },
  {
   "cell_type": "markdown",
   "id": "66cf3fb6",
   "metadata": {},
   "source": [
    "$-10\\pi = -10 \\times 3.1415926536 = -31.4159265360$\n",
    "\n",
    "$6e = 6 \\times 2.7182818285 = 16.3096909710$\n",
    "\n",
    "$\\frac{3}{61} = 0.0491803279$\n",
    "\n",
    "$-31.4159265360 + 16.3096909710 - 0.0491803279 = -15.1554158929$\n",
    "\n",
    "El valor redondeado es: -15.2\n",
    "\n",
    "_Error Absoluto_ $= |p - p^*| = |p - p^*| = |-15.1554158929 - (-15.2)|$\n",
    "\n",
    "_Error Relativo_ $= \\frac{|p - p^*|}{|p|} = \\frac{|-15.1554158929 - (-15.2)|}{|-15.1554158929|}$\n"
   ]
  },
  {
   "cell_type": "code",
   "execution_count": 11,
   "id": "46ea6bab",
   "metadata": {
    "vscode": {
     "languageId": "python"
    }
   },
   "outputs": [
    {
     "name": "stdout",
     "output_type": "stream",
     "text": [
      "Error Absoluto =  0.044584107099998604\n",
      "El porcentaje de Error Absoluto es:  4.45841070999986 %\n",
      "Error Relativo =  0.0029417937069536534\n",
      "El porcentaje de Error Relativo es:  0.29417937069536537 %\n"
     ]
    }
   ],
   "source": [
    "print(\"Error Absoluto = \", errorAbsoluto(-15.1554158929 , -15.2))\n",
    "\n",
    "print(\"El porcentaje de Error Absoluto es: \", errorAbsoluto(-15.1554158929 , -15.2)*100, \"%\")\n",
    "\n",
    "print(\"Error Relativo = \", errorRelativo(-15.1554158929 , -15.2))\n",
    "\n",
    "print(\"El porcentaje de Error Relativo es: \", errorRelativo(-15.1554158929 , -15.2)*100, \"%\")"
   ]
  },
  {
   "cell_type": "markdown",
   "id": "4469c11d",
   "metadata": {},
   "source": [
    "c. $(\\frac{2}{9})(\\frac{9}{11})$\n",
    "\n",
    "$\\frac{2}{9} = 0.2222222222$\n",
    "\n",
    "$\\frac{9}{11} = 0.8181818182$\n",
    "\n",
    "$0.2222222222 \\times 0.8181818182 = 0.1818181818$\n",
    "\n",
    "El valor redondeado es: $0.182$\n",
    "\n",
    "\n",
    "_Error Absoluto_ $= |p - p^*| = |p - p^*| = |0.1818181818 - 0.182|$\n",
    "\n",
    "_Error Relativo_ $= \\frac{|p - p^*|}{|p|} = \\frac{|0.1818181818 - 0.182|}{|0.1818181818|}$\n"
   ]
  },
  {
   "cell_type": "code",
   "execution_count": 12,
   "id": "8b9fdd06",
   "metadata": {
    "vscode": {
     "languageId": "python"
    }
   },
   "outputs": [
    {
     "name": "stdout",
     "output_type": "stream",
     "text": [
      "Error Absoluto =  0.00018181819999998905\n",
      "El porcentaje de Error Absoluto es:  0.018181819999998905 %\n",
      "Error Relativo =  0.0010000001000999396\n",
      "El porcentaje de Error Relativo es:  0.10000001000999396 %\n"
     ]
    }
   ],
   "source": [
    "print(\"Error Absoluto = \", errorAbsoluto(0.1818181818 , 0.182))\n",
    "\n",
    "print(\"El porcentaje de Error Absoluto es: \", errorAbsoluto(0.1818181818 , 0.182)*100, \"%\")\n",
    "\n",
    "print(\"Error Relativo = \", errorRelativo(0.1818181818 , 0.182))\n",
    "\n",
    "print(\"El porcentaje de Error Relativo es: \", errorRelativo(0.1818181818 , 0.182)*100, \"%\")"
   ]
  },
  {
   "cell_type": "markdown",
   "id": "2b7c0197",
   "metadata": {},
   "source": [
    "d. $\\frac{\\sqrt{13}+\\sqrt{11}}{\\sqrt{13}-\\sqrt{11}}$"
   ]
  },
  {
   "cell_type": "markdown",
   "id": "970601f4",
   "metadata": {},
   "source": [
    "$\\sqrt{13} = 3.6055512755$\n",
    "\n",
    "$\\sqrt{11} = 3.3166247904$\n",
    "\n",
    "$3.6055512755 + 3.3166247904 = 6.9221760659$\n",
    "\n",
    "$\\frac{6.9221760659}{0.2889264851} = 23.9600672727$\n",
    "\n",
    "El valor redondeado es: 24.0\n",
    "\n",
    "_Error Absoluto_ $= |p - p^*| = |p - p^*| = |23.9600672727 - 24.0|$\n",
    "\n",
    "_Error Relativo_ $= \\frac{|p - p^*|}{|p|} = \\frac{|23.9600672727 - 24.0|}{|23.9600672727|}$\n",
    "\n",
    "\n"
   ]
  },
  {
   "cell_type": "code",
   "execution_count": 13,
   "id": "33d458ca",
   "metadata": {
    "vscode": {
     "languageId": "python"
    }
   },
   "outputs": [
    {
     "name": "stdout",
     "output_type": "stream",
     "text": [
      "Error Absoluto =  0.039932727299998305\n",
      "El porcentaje de Error Absoluto es:  3.9932727299998305 %\n",
      "Error Relativo =  0.0016666366936914857\n",
      "El porcentaje de Error Relativo es:  0.1666636693691486 %\n"
     ]
    }
   ],
   "source": [
    "print(\"Error Absoluto = \", errorAbsoluto(23.9600672727 , 24.0))\n",
    "\n",
    "print(\"El porcentaje de Error Absoluto es: \", errorAbsoluto(23.9600672727 , 24.0)*100, \"%\")\n",
    "\n",
    "print(\"Error Relativo = \", errorRelativo(23.9600672727 , 24.0))\n",
    "\n",
    "print(\"El porcentaje de Error Relativo es: \", errorRelativo(23.9600672727 , 24.0)*100, \"%\")"
   ]
  },
  {
   "cell_type": "markdown",
   "id": "36418a6c",
   "metadata": {},
   "source": [
    "**5. Los primeros tres términos diferentes a cero de la serie de Maclaurin para la función arcotangente son:**\n",
    "\n",
    "$x-(\\frac{1}{3}) x^{3} + (\\frac{1}{5}) x^{5}$ \n",
    "\n",
    "Calcule los errores absoluto y relativo en las siguientes aproximaciones de $\\pi$ mediante el polinomio en lugar del arcotangente:"
   ]
  },
  {
   "cell_type": "markdown",
   "id": "9754e2c9",
   "metadata": {},
   "source": [
    "a. $4[arctan(\\frac{1}{2})+arctan(\\frac{1}{3})]$"
   ]
  },
  {
   "cell_type": "markdown",
   "id": "e2e99b2a",
   "metadata": {},
   "source": [
    "$\\arctan(x) = x - \\frac{1}{3}x^3 + \\frac{1}{5}x^5 + \\dots$\n",
    "\n",
    "$\\arctan\\left( \\frac{1}{2} \\right) \\approx \\frac{1}{2} - \\frac{1}{3} \\left( \\frac{1}{2} \\right)^3 + \\frac{1}{5} \\left( \\frac{1}{2} \\right)^5$\n",
    "\n",
    "$\\arctan\\left( \\frac{1}{2} \\right) \\approx 0.5000000000 - 0.0416666667 + 0.0062500000 = 0.4645833333$\n",
    "\n",
    "\n",
    "$\\arctan\\left( \\frac{1}{3} \\right) \\approx \\frac{1}{3} - \\frac{1}{3} \\left( \\frac{1}{3} \\right)^3 + \\frac{1}{5} \\left( \\frac{1}{3} \\right)^5$\n",
    "\n",
    "$\\arctan\\left( \\frac{1}{3} \\right) \\approx 0.3333333333 - 0.0123456790 + 0.0008230453 = 0.3218106996$\n",
    "\n",
    "$\\arctan\\left( \\frac{1}{2} \\right) + \\arctan\\left( \\frac{1}{3} \\right) = 0.4645833333 + 0.3218106996 = 0.7863940329$\n",
    "\n",
    "$4 \\times 0.7863940329 = 3.1455761316$\n",
    "\n",
    "\n",
    "\n",
    "_Error Absoluto_ $= |p - p^*| = |p - p^*| = |\\pi - 3.1455761316|$\n",
    "\n",
    "_Error Relativo_ $= \\frac{|p - p^*|}{|p|} = \\frac{|\\pi - 3.1455761316|}{|\\pi|}$\n",
    "\n"
   ]
  },
  {
   "cell_type": "code",
   "execution_count": 14,
   "id": "3b49e9f3",
   "metadata": {
    "vscode": {
     "languageId": "python"
    }
   },
   "outputs": [
    {
     "name": "stdout",
     "output_type": "stream",
     "text": [
      "Error Absoluto =  0.00398347801020682\n",
      "El porcentaje de Error Absoluto es:  0.398347801020682 %\n",
      "Error Relativo =  0.0012679804320445659\n",
      "El porcentaje de Error Relativo es:  0.1267980432044566 %\n"
     ]
    }
   ],
   "source": [
    "print(\"Error Absoluto = \", errorAbsoluto(math.pi , 3.1455761316))\n",
    "\n",
    "print(\"El porcentaje de Error Absoluto es: \", errorAbsoluto(math.pi , 3.1455761316)*100, \"%\")\n",
    "\n",
    "print(\"Error Relativo = \", errorRelativo(math.pi , 3.1455761316))\n",
    "\n",
    "print(\"El porcentaje de Error Relativo es: \", errorRelativo(math.pi , 3.1455761316)*100, \"%\")"
   ]
  },
  {
   "cell_type": "markdown",
   "id": "61666bfa",
   "metadata": {},
   "source": [
    "b. $16 acrtan(\\frac{1}{5}) - 4 arctan(\\frac{1}{239})$"
   ]
  },
  {
   "cell_type": "markdown",
   "id": "d991e9fc",
   "metadata": {},
   "source": [
    "$\\arctan\\left( \\frac{1}{5} \\right) \\approx \\frac{1}{5} - \\frac{1}{3} \\left( \\frac{1}{5} \\right)^3 + \\frac{1}{5} \\left( \\frac{1}{5} \\right)^5$\n",
    "\n",
    "$\\arctan\\left( \\frac{1}{5} \\right) \\approx 0.2000000000 - 0.0013333333 + 0.0000320000 = 0.1986986667$\n",
    "\n",
    "$\\arctan\\left( \\frac{1}{239} \\right) \\approx \\frac{1}{239} - \\frac{1}{3} \\left( \\frac{1}{239} \\right)^3 + \\frac{1}{5} \\left( \\frac{1}{239} \\right)^5$\n",
    "\n",
    "$\\arctan\\left( \\frac{1}{239} \\right) \\approx 0.0041841004 - 1.0310096 \\times 10^{-7} + 2.4373424 \\times 10^{-12} = 0.0041840003$\n",
    "\n",
    "$16 \\times 0.1986986667 = 3.1791786667$\n",
    "\n",
    "$4 \\times 0.0041840003 = 0.0167360012$\n",
    "\n",
    "$3.1791786667 - 0.0167360012 = 3.1624426655$\n",
    "\n",
    "\n",
    "\n",
    "\n",
    "\n",
    "_Error Absoluto_ $= |p - p^*| = |p - p^*| = |\\pi - 3.1624426655|$\n",
    "\n",
    "_Error Relativo_ $= \\frac{|p - p^*|}{|p|} = \\frac{|\\pi - 3.1624426655|}{|\\pi|}$\n",
    "\n",
    "\n"
   ]
  },
  {
   "cell_type": "code",
   "execution_count": 15,
   "id": "c4020a7c",
   "metadata": {
    "vscode": {
     "languageId": "python"
    }
   },
   "outputs": [
    {
     "name": "stdout",
     "output_type": "stream",
     "text": [
      "Error Absoluto =  0.020850011910206856\n",
      "El porcentaje de Error Absoluto es:  2.0850011910206856 %\n",
      "Error Relativo =  0.0066367649180686245\n",
      "El porcentaje de Error Relativo es:  0.6636764918068625 %\n"
     ]
    }
   ],
   "source": [
    "print(\"Error Absoluto = \", errorAbsoluto(math.pi , 3.1624426655))\n",
    "\n",
    "print(\"El porcentaje de Error Absoluto es: \", errorAbsoluto(math.pi , 3.1624426655)*100, \"%\")\n",
    "\n",
    "print(\"Error Relativo = \", errorRelativo(math.pi , 3.1624426655))\n",
    "\n",
    "print(\"El porcentaje de Error Relativo es: \", errorRelativo(math.pi , 3.1624426655)*100, \"%\")"
   ]
  },
  {
   "cell_type": "markdown",
   "id": "a8c6189b",
   "metadata": {},
   "source": [
    " 6. El número $e$ se puede definir por medio de $\\displaystyle\\sum_{n=0}^\\infty (\\frac{1}{n!})$  , donde $𝑛!n n(𝑛 − 1) ⋅⋅⋅ 2$⋅ 1 pa$n$≠  $y 0!$ = 1. Calcule los errores absoluto y relativo en la siguiente aproximación de $e$:"
   ]
  },
  {
   "cell_type": "markdown",
   "id": "15047a17",
   "metadata": {},
   "source": [
    "a. $\\displaystyle\\sum_{n=0}^{5} (\\frac{1}{n!})$"
   ]
  },
  {
   "cell_type": "markdown",
   "id": "df7cea57",
   "metadata": {},
   "source": [
    "$e = \\sum_{n=0}^{\\infty} \\frac{1}{n!}$\n",
    "\n",
    "$\\frac{1}{0!} = 1$\n",
    "\n",
    "$\\frac{1}{1!} = 1$\n",
    "\n",
    "$\\frac{1}{2!} = 0.5$\n",
    "\n",
    "$\\frac{1}{3!} = 0.1666666667$\n",
    "\n",
    "$1 + 1 + 0.5 + 0.1666666667 + 0.0416666667 + 0.0083333333 = 2.7183333333$\n",
    "\n",
    "$e = 2.7182818285$\n",
    "\n",
    "\n",
    "_Error Absoluto_ $= |p - p^*| = |p - p^*| = | - 2.7182818285|$\n",
    "\n",
    "_Error Relativo_ $= \\frac{|p - p^*|}{|p|} = \\frac{|2.7183333333 - 2.7182818285|}{|\\pi|}$"
   ]
  },
  {
   "cell_type": "code",
   "execution_count": null,
   "id": "9d229488",
   "metadata": {
    "vscode": {
     "languageId": "python"
    }
   },
   "outputs": [
    {
     "name": "stdout",
     "output_type": "stream",
     "text": [
      "Error Absoluto =  0.42331082508979323\n",
      "El porcentaje de Error Absoluto es:  42.33108250897932 %\n",
      "Error Relativo =  0.1347440205546986\n",
      "El porcentaje de Error Relativo es:  13.474402055469861 %\n"
     ]
    }
   ],
   "source": [
    "print(\"Error Absoluto = \", errorAbsoluto(2.7183333333 , 2.7182818285))\n",
    "\n",
    "print(\"El porcentaje de Error Absoluto es: \", errorAbsoluto(2.7183333333 , 2.7182818285 )*100, \"%\")\n",
    "\n",
    "print(\"Error Relativo = \", errorRelativo(2.7183333333 , 2.7182818285))\n",
    "\n",
    "print(\"El porcentaje de Error Relativo es: \", errorRelativo(2.7183333333 ,2.7182818285 )*100, \"%\")"
   ]
  },
  {
   "cell_type": "markdown",
   "id": "5625aa1f",
   "metadata": {},
   "source": [
    "b. $\\displaystyle\\sum_{n=0}^{10} (\\frac{1}{n!})$"
   ]
  },
  {
   "cell_type": "markdown",
   "id": "e9f6d82a",
   "metadata": {},
   "source": [
    "$\\frac{1}{6!} = 0.0013888889$\n",
    "\n",
    "$\\frac{1}{7!} = 0.0001984127$\n",
    "\n",
    "$\\frac{1}{8!} = 0.0000248016$\n",
    "\n",
    "$\\frac{1}{9!} = 0.0000027557$\n",
    "\n",
    "$\\frac{1}{10!} = 0.0000002756$\n",
    "\n",
    "$2.7183333333 + 0.0013888889 + 0.0001984127 + 0.0000248016 + 0.0000027557 + 0.0000002756 = 2.7182818011$\n",
    "\n",
    "\n",
    "_Error Absoluto_ $= |p - p^*| = |p - p^*| = |2.7182818011 - 2.7182818285|$\n",
    "\n",
    "_Error Relativo_ $= \\frac{|p - p^*|}{|p|} = \\frac{|2.7182818011- 2.7182818285|}{|\\pi|}$\n"
   ]
  },
  {
   "cell_type": "code",
   "execution_count": 17,
   "id": "1590bb80",
   "metadata": {
    "vscode": {
     "languageId": "python"
    }
   },
   "outputs": [
    {
     "name": "stdout",
     "output_type": "stream",
     "text": [
      "Error Absoluto =  2.7400000046640116e-08\n",
      "El porcentaje de Error Absoluto es:  2.7400000046640116e-06 %\n",
      "Error Relativo =  1.007989680670791e-08\n",
      "El porcentaje de Error Relativo es:  1.007989680670791e-06 %\n"
     ]
    }
   ],
   "source": [
    "print(\"Error Absoluto = \", errorAbsoluto( 2.7182818011, 2.7182818285))\n",
    "\n",
    "print(\"El porcentaje de Error Absoluto es: \", errorAbsoluto( 2.7182818011, 2.7182818285 )*100, \"%\")\n",
    "\n",
    "print(\"Error Relativo = \", errorRelativo( 2.7182818011, 2.7182818285))\n",
    "\n",
    "print(\"El porcentaje de Error Relativo es: \", errorRelativo( 2.7182818011,2.7182818285 )*100, \"%\")"
   ]
  },
  {
   "cell_type": "markdown",
   "id": "cfb40f2d",
   "metadata": {},
   "source": [
    "**7. Suponga que dos puntos $(x_0$,$y_0)$ se encuentran en línea recta con $y_1 \\neq y_0$. Existen dos fórmulas para encontrar la intersección x de la línea:**\n",
    "\n",
    "\n",
    "$x = \\frac{x_0y_1-x_1y_0}{y_1-y_0}$ y $x=x_0-\\frac{(x_1-x_0)y_0}{y_1-y_0}$"
   ]
  },
  {
   "cell_type": "markdown",
   "id": "10e14d81",
   "metadata": {},
   "source": [
    "a. Use los datos $(x_0,y_0)$=(1.31,3.24) y $(x_1,y_1)$ = (1.93,5.76) y la aritmética de redondeo de tres dígitos para calcular la intersección con x de ambas manera ¿Cuál método es mejor y por qué?"
   ]
  },
  {
   "cell_type": "markdown",
   "id": "202551de",
   "metadata": {},
   "source": [
    "$x = \\frac{x_0 y_1 - x_1 y_0}{y_1 - y_0}$\n",
    "\n",
    "$x_0 y_1 = 1.31 \\times 5.76 = 7.5456 \\quad \\text{(redondeado: 7.55)}$\n",
    "\n",
    "$x_1 y_0 = 1.93 \\times 3.24 = 6.2532 \\quad \\text{(redondeado: 6.25)}$\n",
    "\n",
    "$x_0 y_1 - x_1 y_0 = 7.55 - 6.25 = 1.30$\n",
    "\n",
    "$y_1 - y_0 = 5.76 - 3.24 = 2.52$\n",
    "\n",
    "$x = \\frac{1.30}{2.52} = 0.5159$\n",
    "\n",
    "El valor redondeado es: 0.516"
   ]
  },
  {
   "cell_type": "markdown",
   "id": "b40a5763",
   "metadata": {},
   "source": [
    "$x = x_0 - \\frac{(x_1 - x_0) y_0}{y_1 - y_0}$\n",
    "\n",
    "$0.62 \\times 3.24 = 2.0088 \\quad \\text{(redondeado: 2.01)}$\n",
    "\n",
    "$\\frac{2.01}{2.52} = 0.7976 \\quad \\text{(redondeado: 0.798)}$\n",
    "\n",
    "$x = 1.31 - 0.798 = 0.512$"
   ]
  },
  {
   "cell_type": "markdown",
   "id": "624aa83f",
   "metadata": {},
   "source": [
    "* ¿Cuál método es mejor y por qué?\n",
    "\n",
    "Se considera que el primer método aplicado es el mejor dado que existe un menor número de operaciones intermedias y por tanto hay un menor porcentaje de error provocado por la acumulación del redondeo. \n"
   ]
  }
 ],
 "metadata": {
  "kernelspec": {
   "display_name": "Python 3 (ipykernel)",
   "language": "python",
   "name": "python3"
  }
 },
 "nbformat": 4,
 "nbformat_minor": 5
}
