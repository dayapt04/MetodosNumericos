{
 "cells": [
  {
   "cell_type": "raw",
   "id": "15c6aea2-8271-447e-aaba-71850df1b5e2",
   "metadata": {},
   "source": [
    "---\n",
    "title: \"Métodos Numéricos - DEBER 05 -  Método de Newton y la Secante\"\n",
    "author: \"Alicia Pereira\"\n",
    "lang: es\n",
    "format:\n",
    "  pdf:\n",
    "    code-overflow: wrap\n",
    "    number-sections: true\n",
    "    paginate: true\n",
    "    toc: true\n",
    "    links-color: blue\n",
    "    toc-title: \"Tabla de Contenidos\"  \n",
    "    tables: true\n",
    "    table-width: full\n",
    "    images-centered: true\n",
    "    code-block-theme: \"monokai\"\n",
    "execute:\n",
    "  echo: true\n",
    "  error: false\n",
    "  warning: false\n",
    "jupyter: python3\n",
    "---"
   ]
  },
  {
   "cell_type": "markdown",
   "id": "a5fd8e73-aab7-48fb-addd-ca21a388ac80",
   "metadata": {},
   "source": [
    "## EJERCICIO 1\n",
    "\n",
    "Sea $f(x) = -x^3 - \\cos{x}$ y $p_0 = -1$. Use el método de Newton y de la Secante para encontrar $p_1$. ¿Se podría usar $p_0 = 0$?"
   ]
  },
  {
   "cell_type": "markdown",
   "id": "4b564d38-24c6-4c4d-81b2-70a80a9d84ae",
   "metadata": {},
   "source": [
    "Para la resolución del ejercicio se plantea el uso de la librería scipy, con el objetivo de utilizar el algoritmo de **método de Newton**."
   ]
  },
  {
   "cell_type": "code",
   "execution_count": 11,
   "id": "090deddc-ccb7-4c13-8de9-8cffdb1101cc",
   "metadata": {},
   "outputs": [],
   "source": [
    "from scipy.optimize import newton\n",
    "import math"
   ]
  },
  {
   "cell_type": "markdown",
   "id": "bd925553-4cd2-43c9-b08a-a8414a082c6c",
   "metadata": {},
   "source": [
    "Como primer punto, se necesita la derivada de la función propuesta:\n",
    "\n",
    "$$\n",
    "f'(x) = -3x^2 + \\sin{(x)}\n",
    "$$\n",
    "\n",
    "Con esto, se llama a la función Newton con los parámetros obtenidos:\n"
   ]
  },
  {
   "cell_type": "code",
   "execution_count": 13,
   "id": "39acdd39-818e-4de0-bea1-21b54d97487f",
   "metadata": {},
   "outputs": [
    {
     "name": "stdout",
     "output_type": "stream",
     "text": [
      "Método de Newton: -0.8654740331016144\n"
     ]
    }
   ],
   "source": [
    "def func(x):\n",
    "    return -x**3 - math.cos(x)\n",
    "def fprime(x):\n",
    "    return -3*x**2 + math.sin(x)\n",
    "\n",
    "p1 = newton(func = func, x0 = -1 , fprime=fprime)\n",
    "print(\"Método de Newton: \" + str(p1))"
   ]
  },
  {
   "cell_type": "markdown",
   "id": "a386bb0e-f6bb-414b-bc16-75e330136955",
   "metadata": {},
   "source": [
    "El **método de la secante** en cambio, no utiliza la derivada de la función. "
   ]
  },
  {
   "cell_type": "code",
   "execution_count": 15,
   "id": "9ce738fd-5b7e-4fab-8cea-7c1739e03c22",
   "metadata": {},
   "outputs": [
    {
     "name": "stdout",
     "output_type": "stream",
     "text": [
      "Método de la Secante: -0.8654740331016144\n"
     ]
    }
   ],
   "source": [
    "p1 = newton(func = func, x0 = -1 , fprime=None)\n",
    "print(\"Método de la Secante: \" + str(p1))"
   ]
  },
  {
   "cell_type": "markdown",
   "id": "92b75218-5383-4dbe-898e-03adfc875985",
   "metadata": {},
   "source": [
    "**¿Se puede utilizar el cero como $p_0$?**"
   ]
  },
  {
   "cell_type": "code",
   "execution_count": 17,
   "id": "9a77af1e-be68-443c-a4e6-b071e767c9c1",
   "metadata": {},
   "outputs": [
    {
     "name": "stdout",
     "output_type": "stream",
     "text": [
      "Derivative was zero. Failed to converge after 1 iterations, value is 0.0.\n"
     ]
    }
   ],
   "source": [
    "\n",
    "try:\n",
    "    p1 = newton(func = func, x0 = 0, fprime=fprime)\n",
    "except RuntimeError as e:\n",
    "    print(e)"
   ]
  },
  {
   "cell_type": "markdown",
   "id": "8ea43652-219c-4060-ab27-c4f6ca35cdcf",
   "metadata": {},
   "source": [
    "No se puede utilizar al cero como $p_0$ dado que la función nunca converge en ese punto."
   ]
  },
  {
   "cell_type": "markdown",
   "id": "a0bfffe1-dc12-4830-a9f8-bca92eb5ab49",
   "metadata": {},
   "source": [
    "## EJERCICIO 2\n",
    "\n",
    "Encuentre soluciones precisas dentro de $10^{-4}$ para los siguientes problemas.\n",
    "\n",
    "### a)\n",
    "$$x^3 - 2x^2 - 5 = 0, [1, 4]$$\n",
    "\n",
    "Se elige el punto inicial arbitrario dentro del intervalo. En este caso, se escoge $p_0 = 1$.\n",
    "\n",
    "Posteriormente, haciendo uso del método de la secante se obtiene:"
   ]
  },
  {
   "cell_type": "code",
   "execution_count": 43,
   "id": "d888450e-b51f-4815-bf8c-0eaca799f8f1",
   "metadata": {},
   "outputs": [
    {
     "name": "stdout",
     "output_type": "stream",
     "text": [
      "La solución precisa es: 2.6906474472020077\n"
     ]
    }
   ],
   "source": [
    "def func2(x):\n",
    "    return x**3-2*x**2-5\n",
    "p1 = newton(func = func2,x0=1,fprime=None,tol=1e-4)\n",
    "print(\"La solución precisa es: \" + str(p1))    "
   ]
  },
  {
   "cell_type": "markdown",
   "id": "c672150a-c43e-4cb6-9791-3c61f6a3681e",
   "metadata": {},
   "source": [
    "### b)\n",
    "$$x^3 - 3x^2 - 1 = 0, [-3, -2]$$\n",
    "\n",
    "Se elige el punto inicial arbitrario dentro del intervalo. En este caso, se escoge $p_0 = -3$.\n",
    "\n",
    "Posteriormente, haciendo uso del método de la secante se obtiene:"
   ]
  },
  {
   "cell_type": "code",
   "execution_count": 37,
   "id": "979d5a2a-ebcc-4b32-be45-60845b300d80",
   "metadata": {},
   "outputs": [
    {
     "name": "stdout",
     "output_type": "stream",
     "text": [
      "La solución precisa es: 3.1038033822157804\n"
     ]
    }
   ],
   "source": [
    "def func3(x):\n",
    "    return x**3-3*x**2-1\n",
    "    \n",
    "p1 = newton(func = func3,x0=-3,fprime=None,tol=1e-4)\n",
    "print(\"La solución precisa es: \" + str(p1))    "
   ]
  },
  {
   "cell_type": "markdown",
   "id": "35a916b1-498c-4042-b034-d054263c928a",
   "metadata": {},
   "source": [
    "### c)\n",
    "$$x - \\cos{x} = 0 , [0, \\frac{\\pi}{2}]$$\n",
    "\n",
    "Se elige el punto inicial arbitrario dentro del intervalo. En este caso, se escoge $p_0 = 0$.\n",
    "\n",
    "Posteriormente, haciendo uso del método de la secante se obtiene:"
   ]
  },
  {
   "cell_type": "code",
   "execution_count": 45,
   "id": "996e78f9-9705-41ed-901f-74c72e645269",
   "metadata": {},
   "outputs": [
    {
     "name": "stdout",
     "output_type": "stream",
     "text": [
      "La solución precisa es: 0.7390851121452099\n"
     ]
    }
   ],
   "source": [
    "def func4(x):\n",
    "    return x-math.cos(x)\n",
    "    \n",
    "p1 = newton(func = func4,x0=0,fprime=None,tol=1e-4)\n",
    "print(\"La solución precisa es: \" + str(p1))    "
   ]
  },
  {
   "cell_type": "markdown",
   "id": "65cbb2d6-e87f-49dc-839b-c2ee38225e05",
   "metadata": {},
   "source": []
  },
  {
   "cell_type": "markdown",
   "id": "ba46e0e5-ae8f-429c-8ebf-4f53f1803f4c",
   "metadata": {},
   "source": [
    "### d)\n",
    "$$x - \\cos{x} = 0 , [0, \\frac{\\pi}{2}]$$\n",
    "\n",
    "Se elige el punto inicial arbitrario dentro del intervalo. En este caso, se escoge $p_0 = 0$.\n",
    "\n",
    "Posteriormente, haciendo uso del método de la secante se obtiene:"
   ]
  },
  {
   "cell_type": "code",
   "execution_count": 51,
   "id": "dd238e28-c048-4816-a4e2-8c5318b582ff",
   "metadata": {},
   "outputs": [
    {
     "name": "stdout",
     "output_type": "stream",
     "text": [
      "La solución precisa es: 0.9643338895520454\n"
     ]
    }
   ],
   "source": [
    "def func5(x):\n",
    "    return x-0.8-0.2*math.sin(x)\n",
    "\n",
    "p1 = newton(func = func5,x0=0,fprime=None,tol=1e-4)\n",
    "print(\"La solución precisa es: \" + str(p1))\n",
    "        "
   ]
  }
 ],
 "metadata": {
  "kernelspec": {
   "display_name": "Python 3 (ipykernel)",
   "language": "python",
   "name": "python3"
  },
  "language_info": {
   "codemirror_mode": {
    "name": "ipython",
    "version": 3
   },
   "file_extension": ".py",
   "mimetype": "text/x-python",
   "name": "python",
   "nbconvert_exporter": "python",
   "pygments_lexer": "ipython3",
   "version": "3.12.4"
  }
 },
 "nbformat": 4,
 "nbformat_minor": 5
}
