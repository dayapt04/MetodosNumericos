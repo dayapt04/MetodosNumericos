{
 "cells": [
  {
   "cell_type": "raw",
   "metadata": {
    "vscode": {
     "languageId": "raw"
    }
   },
   "source": [
    "---\n",
    "title: \"Métodos Numéricos - DEBER 03 - Algoritmos y Convergencia\"\n",
    "author: \"Alicia Pereira\"\n",
    "lang: es\n",
    "format:\n",
    "  pdf:\n",
    "    number-sections: true\n",
    "    paginate: true\n",
    "    toc: true\n",
    "    links-color: blue\n",
    "    toc-title: \"Tabla de Contenidos\"  \n",
    "    tables: true\n",
    "    table-width: full\n",
    "    images-centered: true\n",
    "    code-block-theme: \"monokai\"\n",
    "  html: default   # Asegura que se genera una salida en formato HTML por defecto.\n",
    "execute:\n",
    "  echo: true\n",
    "  error: false\n",
    "  warning: false\n",
    "code-fold: true\n",
    "jupyter: python3\n",
    "---"
   ]
  },
  {
   "cell_type": "markdown",
   "metadata": {
    "vscode": {
     "languageId": "raw"
    }
   },
   "source": [
    "**2. La serie de Maclaurin para la función arcotangente converge para $-1< x \\le 1$ y está dada por**\n",
    "\\begin{equation}\n",
    "\\arctan x = \\lim_{n \\to \\infty} P_n(x) = \\lim_{n \\to \\infty} \\sum_{i=1}^{n} (-1)^{i+1} \\frac{x^{2i-1}}{2i-1}.\n",
    "\\end{equation}"
   ]
  },
  {
   "cell_type": "markdown",
   "metadata": {},
   "source": [
    "**a. Utilice el hecho de que $\\tan \\frac{\\pi}{4}=1$ para determinar el número n de términos de la serie que se necesita sumar para garantizar que $\\left|4P_n(1)-\\pi \\right|<10^{-3}$**"
   ]
  },
  {
   "cell_type": "markdown",
   "metadata": {},
   "source": [
    "$\\tan \\frac{\\pi}{4}=1$\n",
    "\n",
    "$\\arctan (1)=\\frac{pi}{4}$\n",
    "\n",
    "$\\arctan (1)= \\sum{i=1}^{n} (-1)^{i+1}\\frac{1^{2i-1}}{2i-1}$\n",
    "\n",
    "$P_n(1)=\\sum{i=1}^{n}(-1)^{i+1}\\frac{1}{2i-1}$\n",
    "\n",
    "\n",
    "Asignar valores a _n_ para garantizar que: $\\left|4P_n(1)-pi \\right|<10^{-3}$\n"
   ]
  },
  {
   "cell_type": "code",
   "execution_count": 1,
   "metadata": {},
   "outputs": [
    {
     "name": "stdout",
     "output_type": "stream",
     "text": [
      "Se requieren 1000 términos\n"
     ]
    }
   ],
   "source": [
    "import math\n",
    "\n",
    "contador = 0\n",
    "diferencia = 100\n",
    "\n",
    "def obtener_arcotangente(terminos: int) -> float:\n",
    "    resultado = 0\n",
    "    for j in range(1, terminos + 1):\n",
    "        resultado += (-1) ** (j + 1) * (1 / (2 * j - 1))\n",
    "    return resultado\n",
    "\n",
    "while diferencia >= 1e-3:\n",
    "    contador += 1\n",
    "    valor_arcotangente = obtener_arcotangente(contador)\n",
    "    diferencia = abs(4 * valor_arcotangente - math.pi)\n",
    "\n",
    "print(f'Se requieren {contador} términos')\n"
   ]
  },
  {
   "cell_type": "markdown",
   "metadata": {},
   "source": [
    "**b. El lenguaje de programación C++ requiere que el valor $\\pi$ se encuentre dentro de $10^{-10}$.  ¿Cuántos términos de la sere se necesitarían sumar para obtener este grado de presición?**"
   ]
  },
  {
   "cell_type": "markdown",
   "metadata": {},
   "source": [
    "$4*\\sum_{i=1}^{n}(-1)^{i+1}\\frac{1}{2i-1}=\\pi$"
   ]
  },
  {
   "cell_type": "code",
   "execution_count": null,
   "metadata": {},
   "outputs": [
    {
     "name": "stdout",
     "output_type": "stream",
     "text": [
      "Se necesitaron 10794 términos para obtener 6 decimales correctos.\n"
     ]
    }
   ],
   "source": [
    "import math\n",
    "\n",
    "def aproximar_pi(terminos):\n",
    "    acumulador = 0\n",
    "    for k in range(terminos):\n",
    "        acumulador += (-1) ** k * (1 / (2 * k + 1))\n",
    "    return 4 * acumulador\n",
    "\n",
    "def verificar_pi(aprox, pi_real, decimales):\n",
    "    str_aproximacion = str(aprox)[:decimales + 2]\n",
    "    str_pi_real = str(pi_real)[:decimales + 2]\n",
    "    coincidencias = 0\n",
    "    for idx in range(decimales + 2):\n",
    "        if str_aproximacion[idx] == str_pi_real[idx]:\n",
    "            coincidencias += 1\n",
    "        else:\n",
    "            break\n",
    "    return coincidencias\n",
    "\n",
    "decimales_requeridos = 6\n",
    "valor_pi = math.pi\n",
    "contador = 1\n",
    "\n",
    "while True:\n",
    "    valor_aprox = aproximar_pi(contador)\n",
    "    coincidencias = verificar_pi(valor_aprox, valor_pi, decimales_requeridos)\n",
    "    if coincidencias >= decimales_requeridos:\n",
    "        break\n",
    "    contador += 1\n",
    "\n",
    "print(f\"Se necesitaron {contador} términos para obtener {decimales_requeridos} decimales correctos.\")\n"
   ]
  },
  {
   "cell_type": "markdown",
   "metadata": {},
   "source": [
    "**3. Otra fórmula para calcular $\\pi$ se puede deducir a partir de la identidad $\\pi/4=4\\arctan\\frac{1}{5}-arctan\\frac{1}{239}$.Determine el número de términos que se deben sumar para garantizar una aproximación dentro de $10^{-3}$.**\n",
    "\n",
    "Despejando $\\pi$ -> \n",
    "$\\pi=4*(4*\\arctan\\frac{1}{5}-\\arctan\\frac{1}{239})$\n",
    "\n",
    "**El valor de la arcotangente se obtiene a partir de Maclaurin**"
   ]
  },
  {
   "cell_type": "code",
   "execution_count": 2,
   "metadata": {},
   "outputs": [
    {
     "name": "stdout",
     "output_type": "stream",
     "text": [
      "Se necesitaron 1 términos para obtener 3 decimales correctos.\n"
     ]
    }
   ],
   "source": [
    "import math\n",
    "\n",
    "def aproximar_pi(terminos):\n",
    "    suma_arctan1 = 0\n",
    "    suma_arctan2 = 0\n",
    "    for j in range(terminos):\n",
    "        suma_arctan1 += (-1)**j * (1 / (5**(2*j+1) * (2*j+1)))\n",
    "        suma_arctan2 += (-1)**j * (1 / (239**(2*j+1) * (2*j+1)))\n",
    "    return 4 * (4 * suma_arctan1 - suma_arctan2)\n",
    "\n",
    "def verificar_precision(aprox, valor_pi, decimales):\n",
    "    str_aprox = str(aprox)[:decimales + 2]\n",
    "    str_pi = str(valor_pi)[:decimales + 2]\n",
    "    coincidencias = 0\n",
    "    for k in range(decimales + 2):\n",
    "        if str_aprox[k] == str_pi[k]:\n",
    "            coincidencias += 1\n",
    "        else:\n",
    "            break\n",
    "    return coincidencias\n",
    "\n",
    "valor_pi = math.pi\n",
    "decimales_objetivo = 3\n",
    "contador = 1\n",
    "\n",
    "while True:\n",
    "    valor_aprox = aproximar_pi(contador)\n",
    "    coincidencias = verificar_precision(valor_aprox, valor_pi, decimales_objetivo)\n",
    "    if coincidencias >= decimales_objetivo:\n",
    "        break\n",
    "    contador += 1\n",
    "\n",
    "print(f\"Se necesitaron {contador} términos para obtener {decimales_objetivo} decimales correctos.\")\n"
   ]
  },
  {
   "cell_type": "markdown",
   "metadata": {},
   "source": [
    "**5. ¿Cuántas multiplicaciones y sumas se requieren para determinar una suma de la forma $\\sum_{i=1}^{n}\\sum_{j=1}^{i}a_ib_j$?**\n",
    "\n",
    "Para un valor dado de i, j toma valores de 1 hasta i.\n",
    "\n",
    "Se realizan i multiplicaciones, dando un total de:\n",
    "\n",
    "$\\sum_{i=1}^{n}i=\\frac{n(n+1)}{2}$\n"
   ]
  },
  {
   "cell_type": "code",
   "execution_count": 3,
   "metadata": {},
   "outputs": [
    {
     "name": "stdout",
     "output_type": "stream",
     "text": [
      "La operación de multiplicación se realizó 6 veces\n"
     ]
    }
   ],
   "source": [
    "n = 3\n",
    "conteo_multiplicaciones = 0\n",
    "\n",
    "for a in range(1, n + 1):\n",
    "    for b in range(1, a + 1):\n",
    "        resultado = a * b\n",
    "        conteo_multiplicaciones += 1\n",
    "\n",
    "print(f'La operación de multiplicación se realizó {conteo_multiplicaciones} veces')\n"
   ]
  },
  {
   "cell_type": "markdown",
   "metadata": {},
   "source": [
    "## Discusiones\n",
    "\n",
    "**2. Las ecuaciones(1.2) y (1.3) en la sección 1.2 proporcionan formas alternativas para las raíces. $x_1$ y $x_2$ de $ax^2+bx+c=0$.Construya un algoritmo con entrada a,b,c y salida x_1,x_2 que calcule las raíces $x_1$ y $x_2$ (que pueden ser iguales con conjugados complejos) mediante la mejor fórmula para cada raíz**"
   ]
  },
  {
   "cell_type": "markdown",
   "metadata": {},
   "source": [
    "**GitHub:** git@github.com: dayapt04\n",
    "\n",
    "\n",
    "[GitHub Métodos Númericos - Repositorio](https://github.com/dayapt04/MetodosNumericos)"
   ]
  }
 ],
 "metadata": {
  "kernelspec": {
   "display_name": "Python 3 (ipykernel)",
   "language": "python",
   "name": "python3"
  },
  "language_info": {
   "codemirror_mode": {
    "name": "ipython",
    "version": 3
   },
   "file_extension": ".py",
   "mimetype": "text/x-python",
   "name": "python",
   "nbconvert_exporter": "python",
   "pygments_lexer": "ipython3",
   "version": "3.12.4"
  }
 },
 "nbformat": 4,
 "nbformat_minor": 2
}
