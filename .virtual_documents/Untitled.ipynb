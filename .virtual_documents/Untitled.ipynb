





import numpy as np

import matplotlib.pyplot as plt

def f(x:float)->float:
    return (x**3 - 3*x**2 + x - 1)

x = np.linspace(-2, 4, 400)

y = equation(x)

plt.plot(x, y, label='$y(x) = x^3 - 3x^2 + x - 1$')

plt.xlabel('x')
plt.ylabel('y')
plt.title('Plot of $y(x) = x^3 - 3x^2 + x - 1$')
ax = plt.gca()
ax.set_ylim([-6, 5])
ax.set_xlim([-2, 4])
plt.grid(True)
plt.show()








def fprime(x:float,points: list[float] = [],show: bool = False):
    points.append((x, f(x, points, show)))
    return (3*x**2 - 6*x + 1)

def f(x:float,points: list[float] = [],show: bool = False):
    y = x**3 - 3*x**2 + x - 1
    points.append((x,y))
    if show:
        print(f"f({x}) = {y}")
    return y


from scipy.optimize import newton
x0 = -1
points = []
x_r = newton(f,x0,fprime,args=(points, False), maxiter = 100, full_output = True, disp = False)
x_r





points





x_points = [point[0] for point in points]

plt.figure(figsize=(8,6))
plt.plot(x_points,"o-",label="x points")
plt.grid(color = "gray", linestyle = "--", linewidth=0.5)
plt.title("Plot of x points in points")
plt.xlabel("Index")
plt.ylabel("x value")
plt.legend()
plt.show()



