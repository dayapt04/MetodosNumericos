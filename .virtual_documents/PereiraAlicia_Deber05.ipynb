








from scipy.optimize import newton
import math





def func(x):
    return -x**3 - math.cos(x)
def fprime(x):
    return -3*x**2 + math.sin(x)

p1 = newton(func = func, x0 = -1 , fprime=fprime)
print("Método de Newton: " + str(p1))





p1 = newton(func = func, x0 = -1 , fprime=None)
print("Método de la Secante: " + str(p1))






try:
    p1 = newton(func = func, x0 = 0, fprime=fprime)
except RuntimeError as e:
    print(e)








def func2(x):
    return x**3-2*x**2-5
p1 = newton(func = func2,x0=1,fprime=None,tol=1e-4)
print("La solución precisa es: " + str(p1))    





def func3(x):
    return x**3-3*x**2-1
    
p1 = newton(func = func3,x0=-3,fprime=None,tol=1e-4)
print("La solución precisa es: " + str(p1))    





def func4(x):
    return x-math.cos(x)
    
p1 = newton(func = func4,x0=0,fprime=None,tol=1e-4)
print("La solución precisa es: " + str(p1))    








def func5(x):
    return x-0.8-0.2*math.sin(x)

p1 = newton(func = func5,x0=0,fprime=None,tol=1e-4)
print("La solución precisa es: " + str(p1))
        
