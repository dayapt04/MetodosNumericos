











import math

def errorAbsoluto(vReal,vAprox):
    return abs(vReal-vAprox)

def errorRelativo(vReal, vAprox):
    return (abs(vReal-vAprox))/abs(vReal)
    
    








print("Error Absoluto = ", errorAbsoluto(math.pi,22/7))

print("El porcentaje de Error Absoluto es: ", errorAbsoluto(math.pi,22/7)*100, "%")

print("Error Relativo = ", errorRelativo(math.pi,22/7))

print("El porcentaje de Error Relativo es: ", errorRelativo(math.pi,22/7)*100, "%")










print("Error Absoluto = ", errorAbsoluto(math.pi,3.1416))

print("El porcentaje de Error Absoluto es: ", errorAbsoluto(math.pi,3.1416)*100, "%")

print("Error Relativo = ", errorRelativo(math.pi,3.1416))

print("El porcentaje de Error Relativo es: ", errorRelativo(math.pi,3.1416)*100, "%")






print("Error Absoluto = ", errorAbsoluto(math.e, 2.718))

print("El porcentaje de Error Absoluto es: ", errorAbsoluto(math.e,2.718)*100, "%")

print("Error Relativo = ", errorRelativo(math.e,2.718))

print("El porcentaje de Error Relativo es: ", errorRelativo(math.e,2.718)*100, "%")





print("Error Absoluto = ", errorAbsoluto(math.sqrt(2), 1.414))

print("El porcentaje de Error Absoluto es: ", errorAbsoluto(math.sqrt(2),1.414)*100, "%")

print("Error Relativo = ", errorRelativo(math.sqrt(2),1.414))

print("El porcentaje de Error Relativo es: ", errorRelativo(math.sqrt(2),1.414)*100, "%")








print("Error Absoluto = ", errorAbsoluto(math.pow(math.e,10),22000))

print("El porcentaje de Error Absoluto es: ", errorAbsoluto(math.pow(math.e,10),22000)*100, "%")

print("Error Relativo = ", errorRelativo(math.pow(math.e,10),22000))

print("El porcentaje de Error Relativo es: ", errorRelativo(math.pow(math.e,10),22000)*100, "%")





print("Error Absoluto = ", errorAbsoluto(math.pow(10,math.pi),1400))

print("El porcentaje de Error Absoluto es: ", errorAbsoluto(math.pow(10,math.pi),1400)*100, "%")

print("Error Relativo = ", errorRelativo(math.pow(10,math.pi),1400))

print("El porcentaje de Error Relativo es: ", errorRelativo(math.pow(10,math.pi),1400)*100, "%")





print("Error Absoluto = ", errorAbsoluto(math.factorial(8),39900))

print("El porcentaje de Error Absoluto es: ", errorAbsoluto(math.factorial(8),39900)*100, "%")

print("Error Relativo = ", errorRelativo(math.factorial(8),39900))

print("El porcentaje de Error Relativo es: ", errorRelativo(math.factorial(8),39900)*100, "%")





print("Error Absoluto = ", errorAbsoluto(math.factorial(9),(math.sqrt(18*math.pi)*math.pow((9/math.e),9))))

print("El porcentaje de Error Absoluto es: ", errorAbsoluto(math.factorial(9),(math.sqrt(18*math.pi)*math.pow((9/math.e),9)))*100, "%")

print("Error Relativo = ", errorRelativo(math.factorial(9),(math.sqrt(18*math.pi)*math.pow((9/math.e),9))))

print("El porcentaje de Error Relativo es: ", errorRelativo(math.factorial(9),(math.sqrt(18*math.pi)*math.pow((9/math.e),9)))*100, "%")









































print("Error Absoluto = ", errorAbsoluto(5.8607594937, 5.86))

print("El porcentaje de Error Absoluto es: ", errorAbsoluto(5.8607594937 , 5.86)*100, "%")

print("Error Relativo = ", errorRelativo(5.8607594937, 5.86))

print("El porcentaje de Error Relativo es: ", errorRelativo(5.8607594937, 5.86)*100, "%")








print("Error Absoluto = ", errorAbsoluto(-15.1554158929 , -15.2))

print("El porcentaje de Error Absoluto es: ", errorAbsoluto(-15.1554158929 , -15.2)*100, "%")

print("Error Relativo = ", errorRelativo(-15.1554158929 , -15.2))

print("El porcentaje de Error Relativo es: ", errorRelativo(-15.1554158929 , -15.2)*100, "%")





print("Error Absoluto = ", errorAbsoluto(0.1818181818 , 0.182))

print("El porcentaje de Error Absoluto es: ", errorAbsoluto(0.1818181818 , 0.182)*100, "%")

print("Error Relativo = ", errorRelativo(0.1818181818 , 0.182))

print("El porcentaje de Error Relativo es: ", errorRelativo(0.1818181818 , 0.182)*100, "%")








print("Error Absoluto = ", errorAbsoluto(23.9600672727 , 24.0))

print("El porcentaje de Error Absoluto es: ", errorAbsoluto(23.9600672727 , 24.0)*100, "%")

print("Error Relativo = ", errorRelativo(23.9600672727 , 24.0))

print("El porcentaje de Error Relativo es: ", errorRelativo(23.9600672727 , 24.0)*100, "%")











print("Error Absoluto = ", errorAbsoluto(math.pi , 3.1455761316))

print("El porcentaje de Error Absoluto es: ", errorAbsoluto(math.pi , 3.1455761316)*100, "%")

print("Error Relativo = ", errorRelativo(math.pi , 3.1455761316))

print("El porcentaje de Error Relativo es: ", errorRelativo(math.pi , 3.1455761316)*100, "%")








print("Error Absoluto = ", errorAbsoluto(math.pi , 3.1624426655))

print("El porcentaje de Error Absoluto es: ", errorAbsoluto(math.pi , 3.1624426655)*100, "%")

print("Error Relativo = ", errorRelativo(math.pi , 3.1624426655))

print("El porcentaje de Error Relativo es: ", errorRelativo(math.pi , 3.1624426655)*100, "%")











print("Error Absoluto = ", errorAbsoluto(2.7183333333 , 2.7182818285))

print("El porcentaje de Error Absoluto es: ", errorAbsoluto(2.7183333333 , 2.7182818285 )*100, "%")

print("Error Relativo = ", errorRelativo(2.7183333333 , 2.7182818285))

print("El porcentaje de Error Relativo es: ", errorRelativo(2.7183333333 ,2.7182818285 )*100, "%")








print("Error Absoluto = ", errorAbsoluto( 2.7182818011, 2.7182818285))

print("El porcentaje de Error Absoluto es: ", errorAbsoluto( 2.7182818011, 2.7182818285 )*100, "%")

print("Error Relativo = ", errorRelativo( 2.7182818011, 2.7182818285))

print("El porcentaje de Error Relativo es: ", errorRelativo( 2.7182818011,2.7182818285 )*100, "%")















