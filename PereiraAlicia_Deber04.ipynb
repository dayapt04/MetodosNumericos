{
 "cells": [
  {
   "cell_type": "raw",
   "metadata": {
    "vscode": {
     "languageId": "raw"
    }
   },
   "source": [
    "---\n",
    "title: \"Métodos Numéricos - DEBER 04 -  Método de Bisección\"\n",
    "author: \"Alicia Pereira\"\n",
    "lang: es\n",
    "format:\n",
    "  pdf:\n",
    "    number-sections: true\n",
    "    paginate: true\n",
    "    toc: true\n",
    "    links-color: blue\n",
    "    toc-title: \"Tabla de Contenidos\"  \n",
    "    tables: true\n",
    "    table-width: full\n",
    "    images-centered: true\n",
    "    code-block-theme: \"monokai\"\n",
    "  html: default   # Asegura que se genera una salida en formato HTML por defecto.\n",
    "execute:\n",
    "  echo: true\n",
    "  error: false\n",
    "  warning: false\n",
    "code-fold: true\n",
    "jupyter: python3\n",
    "---"
   ]
  },
  {
   "cell_type": "markdown",
   "metadata": {},
   "source": [
    "**1. Use el método de bisección para encontrar soluciones precisas dentro de $10^{-2}$ para $x^3 - 7x^2 + 14x - 6 = 0$ en cada intervalo.**"
   ]
  },
  {
   "cell_type": "markdown",
   "metadata": {},
   "source": [
    "Para empezar, se dibuja la gráfica de la función requerida para de este modo tener una mejor visualización del ejercicio y la bisección a realizar."
   ]
  },
  {
   "cell_type": "code",
   "execution_count": 1,
   "metadata": {
    "vscode": {
     "languageId": "python"
    }
   },
   "outputs": [
    {
     "data": {
      "image/png": "[encoded data removed]",
      "text/plain": [
       "<Figure size 640x480 with 1 Axes>"
      ]
     },
     "metadata": {},
     "output_type": "display_data"
    }
   ],
   "source": [
    "import numpy as np\n",
    "\n",
    "import matplotlib.pyplot as plt\n",
    "\n",
    "def equation(x:float)->float:\n",
    "    return (x**3 - 7*x**2 + 14*x - 6)\n",
    "\n",
    "x = np.linspace(-10, 10, 100)\n",
    "\n",
    "y = equation(x)\n",
    "\n",
    "plt.plot(x, y)\n",
    "\n",
    "plt.xlabel('x')\n",
    "plt.ylabel('y')\n",
    "plt.title('Plot of $ x^{3} - 7x^{2} + 14x - 6 = 0$')\n",
    "ax = plt.gca()\n",
    "ax.set_ylim([-2, 4])\n",
    "ax.set_xlim([0, 5])\n",
    "plt.grid(True)\n",
    "plt.show()"
   ]
  },
  {
   "cell_type": "markdown",
   "metadata": {},
   "source": [
    "El método de la bisección es aplicado mediante la función definida en Python a continuación:"
   ]
  },
  {
   "cell_type": "code",
   "execution_count": 2,
   "metadata": {
    "vscode": {
     "languageId": "python"
    }
   },
   "outputs": [],
   "source": [
    "from typing import Callable\n",
    "def sign(x: float) -> int:\n",
    "    if x > 0:\n",
    "        return 1\n",
    "    elif x < 0:\n",
    "        return -1\n",
    "    else:\n",
    "        return 0\n",
    "    \n",
    "\n",
    "def bisection(\n",
    "    a: float, b: float, *, equation: Callable[[float], float], tol: float, N: int\n",
    ") -> tuple[float, float, float, int] | None:\n",
    "    i = 1\n",
    "\n",
    "    assert a < b, \"a not lower than b, the interval is not valid.\"\n",
    "    assert (\n",
    "        equation(a) * equation(b) < 0\n",
    "    ), \"The function does not change sign over the interval.\"\n",
    "\n",
    "    Fa = equation(a)\n",
    "    p = a \n",
    "    for i in range(N):\n",
    "        p = a + (b - a) / 2\n",
    "        FP = equation(p)\n",
    "        if FP == 0 or (b - a) / 2 < tol:\n",
    "            return p, a, b, i\n",
    "\n",
    "        if sign(Fa) * sign(FP) > 0:\n",
    "            a = p\n",
    "            Fa = FP\n",
    "        else:\n",
    "            b = p\n",
    "    return p, a, b, i\n"
   ]
  },
  {
   "cell_type": "markdown",
   "metadata": {},
   "source": [
    "a. $[0,1]$"
   ]
  },
  {
   "cell_type": "code",
   "execution_count": 3,
   "metadata": {
    "vscode": {
     "languageId": "python"
    }
   },
   "outputs": [
    {
     "name": "stdout",
     "output_type": "stream",
     "text": [
      "Al utilizar el rango [0,1], en la iteración n°: 6 se encontró que la raíz de f(x) dentro de la precisión de 1e-02 es: 0.5859375\n"
     ]
    }
   ],
   "source": [
    "a = 0\n",
    "b = 1\n",
    "tol = 10**(-2)\n",
    "\n",
    "result= bisection(a = a, b=b,equation=equation,tol = tol, N = 20)\n",
    "print(\"Al utilizar el rango [\"+str(a)+\",\"+str(b)+\"], en la iteración n°: \"+str(result[3])+\" se encontró que la raíz de f(x)\"+\n",
    "      \" dentro de la precisión de \"+format(tol, \".0e\")+ \" es: \"+str(result[0])) "
   ]
  },
  {
   "cell_type": "markdown",
   "metadata": {},
   "source": [
    "b. $[1, 3.2]$"
   ]
  },
  {
   "cell_type": "code",
   "execution_count": 4,
   "metadata": {
    "vscode": {
     "languageId": "python"
    }
   },
   "outputs": [
    {
     "name": "stdout",
     "output_type": "stream",
     "text": [
      "Al utilizar el rango [1,3.2], en la iteración n°: 7 se encontró que la raíz de f(x) dentro de la precisión de 1e-02 es: 3.0023437500000005\n"
     ]
    }
   ],
   "source": [
    "a = 1\n",
    "b = 3.2\n",
    "tol = 10**(-2)\n",
    "\n",
    "result= bisection(a = a, b=b,equation=equation,tol = tol, N = 20)\n",
    "print(\"Al utilizar el rango [\"+str(a)+\",\"+str(b)+\"], en la iteración n°: \"+str(result[3])+\" se encontró que la raíz de f(x)\"+\n",
    "      \" dentro de la precisión de \"+format(tol, \".0e\")+ \" es: \"+str(result[0])) "
   ]
  },
  {
   "cell_type": "markdown",
   "metadata": {},
   "source": [
    "c. $[3.2,4]$"
   ]
  },
  {
   "cell_type": "code",
   "execution_count": 5,
   "metadata": {
    "vscode": {
     "languageId": "python"
    }
   },
   "outputs": [
    {
     "name": "stdout",
     "output_type": "stream",
     "text": [
      "Al utilizar el rango [3.2,4], en la iteración n°: 6 se encontró que la raíz de f(x) dentro de la precisión de 1e-02 es: 3.41875\n"
     ]
    }
   ],
   "source": [
    "a = 3.2\n",
    "b = 4\n",
    "tol = 10**(-2)\n",
    "\n",
    "result= bisection(a = a, b=b,equation=equation,tol = tol, N = 20)\n",
    "print(\"Al utilizar el rango [\"+str(a)+\",\"+str(b)+\"], en la iteración n°: \"+str(result[3])+\" se encontró que la raíz de f(x)\"+\n",
    "      \" dentro de la precisión de \"+format(tol, \".0e\")+ \" es: \"+str(result[0])) "
   ]
  },
  {
   "cell_type": "markdown",
   "metadata": {},
   "source": [
    "**4.a. Dibuje las gráficas para $y = x^{2} - 1$ y $y = e^{1-x^{2}}$**\n"
   ]
  },
  {
   "cell_type": "code",
   "execution_count": 6,
   "metadata": {
    "vscode": {
     "languageId": "python"
    }
   },
   "outputs": [
    {
     "data": {
      "image/png": "[encoded data removed]",
      "text/plain": [
       "<Figure size 800x600 with 1 Axes>"
      ]
     },
     "metadata": {},
     "output_type": "display_data"
    }
   ],
   "source": [
    "import numpy as np\n",
    "import matplotlib.pyplot as plt\n",
    "\n",
    "def equation1(x:float)->float:\n",
    "    return ((x**2) - 1)\n",
    "\n",
    "def equation2(x:float)->float:\n",
    "    return np.exp(1-x**2)\n",
    "\n",
    "x = np.linspace(-5, 5, 200)\n",
    "y1 = equation1(x)\n",
    "y2 = equation2(x)\n",
    "plt.figure(figsize=(8, 6))\n",
    "plt.plot(x, y1, label=r'$y = x^{2} - 1$', color='pink')\n",
    "plt.plot(x, y2, label=r'$y = e^{1-x^{2}}$', color='green')\n",
    "\n",
    "plt.xlabel('x')\n",
    "plt.ylabel('y')\n",
    "plt.title('Plot of $x^{2}-1$ and $e^{1-x^{2}}$')\n",
    "plt.axhline(0, color='black',linewidth=0.5)\n",
    "plt.axvline(0, color='black',linewidth=0.5)\n",
    "ax = plt.gca()\n",
    "ax.set_ylim([-2, 5])\n",
    "ax.set_xlim([-4, 4])\n",
    "\n",
    "plt.grid(True)\n",
    "plt.legend()\n",
    "plt.show()"
   ]
  },
  {
   "cell_type": "markdown",
   "metadata": {},
   "source": [
    "**4.b. Use el método de bisección para encontrar una aproximación dentro de $10^{-3}$ para un valor de $[-2,0]$ con $x^{2} - 1 = e^{1-x^{2}}$**"
   ]
  },
  {
   "cell_type": "markdown",
   "metadata": {},
   "source": [
    "Para visualizar mejor el problema, se proporciona la gráfica correspondiente a la función."
   ]
  },
  {
   "cell_type": "code",
   "execution_count": 13,
   "metadata": {
    "vscode": {
     "languageId": "python"
    }
   },
   "outputs": [
    {
     "data": {
      "image/png": "[encoded data removed]",
      "text/plain": [
       "<Figure size 640x480 with 1 Axes>"
      ]
     },
     "metadata": {},
     "output_type": "display_data"
    }
   ],
   "source": [
    "def eq(x):\n",
    "    return ((x**2) - 1)-(np.exp(1-x**2))\n",
    "\n",
    "\n",
    "x = np.linspace(-5, 5, 100)\n",
    "\n",
    "y = eq(x)\n",
    "\n",
    "plt.plot(x, y, label = '$x^{2} - 1 = e^{1-x^{2}}$', color = 'purple')\n",
    "\n",
    "plt.xlabel('x')\n",
    "plt.ylabel('y')\n",
    "plt.title('Plot of $x^{2} - 1 = e^{1-x^{2}}$')\n",
    "ax = plt.gca()\n",
    "ax.set_ylim([-6, 4])\n",
    "ax.set_xlim([-4, 4])\n",
    "plt.grid(True)\n",
    "plt.show()"
   ]
  },
  {
   "cell_type": "code",
   "execution_count": 8,
   "metadata": {
    "vscode": {
     "languageId": "python"
    }
   },
   "outputs": [
    {
     "name": "stdout",
     "output_type": "stream",
     "text": [
      "Al utilizar el rango [-2,0], en la iteración n°: 10 se encontró que la raíz de f(x) dentro de la precisión de 1e-03 es: -1.2509765625\n"
     ]
    }
   ],
   "source": [
    "a = -2\n",
    "b = 0\n",
    "tol = 10**(-3)\n",
    "\n",
    "result= bisection(a = a, b=b,equation=eq,tol = tol, N = 20)\n",
    "print(\"Al utilizar el rango [\"+str(a)+\",\"+str(b)+\"], en la iteración n°: \"+str(result[3])+\" se encontró que la raíz de f(x)\"+\n",
    "      \" dentro de la precisión de \"+format(tol, \".0e\")+ \" es: \"+str(result[0])) "
   ]
  },
  {
   "cell_type": "markdown",
   "metadata": {},
   "source": [
    "## Ejercicios Aplicados\n",
    "\n",
    "**1. Un abrevadero de longitud 𝐿 tiene una sección transversal en forma de semicírculo con radio 𝑟. (Consulte la figura adjunta.) Cuando se llena con agua hasta una distancia ℎ a partir de la parte superior, el volumen 𝑉 de agua es:**\n",
    "\n",
    "$V = L \\left( 0.5 \\pi r^2 - r^2 \\arcsin\\left(\\frac{h}{r}\\right) - h \\sqrt{r^2 - h^2} \\right)$\n",
    "\n",
    "\n",
    "**Suponga que 𝐿 = 10 𝑐𝑚, 𝑟 = 1 𝑐𝑚 y 𝑉 =12.4 𝑐𝑚. Encuentre la profundidad del agua en el abrevadero dentro de 0.01 _cm_**\n"
   ]
  },
  {
   "cell_type": "markdown",
   "metadata": {},
   "source": [
    "_Datos del Ejercicio:_\n",
    "\n",
    "* Tolerancia: $0.01 cm$\n",
    "* Intervalo: $[h_{min}, h_{max}]$, es decir: $[0,1]$ "
   ]
  },
  {
   "cell_type": "code",
   "execution_count": 9,
   "metadata": {
    "vscode": {
     "languageId": "python"
    }
   },
   "outputs": [
    {
     "name": "stdout",
     "output_type": "stream",
     "text": [
      "Al utilizar el rango [0,1], en la iteración n°: 6 se encontró que la raíz de f(h) dentro de la precisión de 1e-02 es: 0.1640625\n"
     ]
    }
   ],
   "source": [
    "import math \n",
    "\n",
    "L = 10\n",
    "r = 1\n",
    "V_dado = 12.4\n",
    "tol = 0.01\n",
    "\n",
    "\n",
    "def f_h(h):\n",
    "    V_calculado = L * (0.5 * math.pi * r**2 - r**2 * math.asin(h / r) - h * math.sqrt(r**2 - h**2))\n",
    "    return V_calculado - V_dado\n",
    "\n",
    "result = bisection(a=0,b=r,equation=f_h,tol=tol,N=20)\n",
    "\n",
    "print(\"Al utilizar el rango [\"+str(0)+\",\"+str(r)+\"], en la iteración n°: \"+str(result[3])+\" se encontró que la raíz de f(h)\"+\n",
    "      \" dentro de la precisión de \"+format(tol, \".0e\")+ \" es: \"+str(result[0])) \n",
    "\n"
   ]
  },
  {
   "cell_type": "markdown",
   "metadata": {},
   "source": [
    "**2. Un objeto que cae verticalmente a través del aire está sujeto a  una resistencia viscosa, así como a la fuerza de gravedad. Suponga que un objeto con masa 𝑚 cae desde una altura 𝑠 y que la altura del objeto después de 𝑡segundos es**\n",
    "\n",
    "$s(t) = s_0 - \\frac{mg}{k} t + \\frac{m^2 g}{k^2} \\left( 1 - e^{-\\frac{kt}{m}} \\right),$\n",
    "\n",
    "**donde $( g = 9.81, \\text{m/s}^2 )$ y $(k)$ representa el coeficiente de la resistencia del aire en $( \\text{Ns/m})$. Suponga $( s_0 = 300, \\text{m})$, $( m = 0.25 \\, \\text{kg})$ y $(k = 0.1, \\text{Ns/m})$. Encuentre, dentro de $(0.01 \\, \\text{segundos})$, el tiempo que tarda un cuarto de kg en golpear el piso.**"
   ]
  },
  {
   "cell_type": "code",
   "execution_count": 10,
   "metadata": {
    "vscode": {
     "languageId": "python"
    }
   },
   "outputs": [
    {
     "name": "stdout",
     "output_type": "stream",
     "text": [
      "Al utilizar el rango [0,300], en la iteración n°: 14 se encontró que la raíz de f(t) dentro de la precisión de 1e-02 es: 14.7308349609375 seg.\n"
     ]
    }
   ],
   "source": [
    "s0 = 300       \n",
    "m = 0.25       \n",
    "k = 0.1        \n",
    "g = 9.81\n",
    "tol = 0.01\n",
    "\n",
    "def f_t(t):\n",
    "    s_t = s0 - (m * g / k) * t + (m**2 * g / k**2) * (1 - math.exp(-k * t / m))\n",
    "    return s_t\n",
    "\n",
    "result = bisection(a=0,b=s0,equation=f_t,tol=tol,N=20)\n",
    "\n",
    "print(\"Al utilizar el rango [\"+str(0)+\",\"+str(s0)+\"], en la iteración n°: \"+str(result[3])+\" se encontró que la raíz de f(t)\"+\n",
    "      \" dentro de la precisión de \"+format(tol, \".0e\")+ \" es: \"+str(result[0]) + \" seg.\")"
   ]
  },
  {
   "cell_type": "markdown",
   "metadata": {},
   "source": [
    "## Ejercicios Teóricos\n",
    "\n",
    "**1. Use el teorema 2.1. para encontrar una cota para el número de iteraciones necesarias para lograr una aproximación con precisión de $10^{-4}$ para la solución de $x^{3}-x-1=0$ que se encuentra dentro del intervalo $[1,2]$. Encuentre una aproximación para la raíz con este grado de precisión.**"
   ]
  },
  {
   "cell_type": "code",
   "execution_count": 11,
   "metadata": {
    "vscode": {
     "languageId": "python"
    }
   },
   "outputs": [
    {
     "name": "stdout",
     "output_type": "stream",
     "text": [
      "Después de 14 iteraciones la solución aproximada en la precisión de 1e-04 es: 1.32476806640625\n"
     ]
    }
   ],
   "source": [
    "a = 1\n",
    "b = 2\n",
    "tol = 10**(-4)\n",
    "def equation3(x):\n",
    "    return (x**(3)-x-1)\n",
    "\n",
    "result = bisection(a=a,b=b,equation=equation3,tol=tol,N=20)\n",
    "\n",
    "print(\"Después de \" + str(result[3]+1) + \" iteraciones la solución aproximada en la precisión de \"+format(tol, \".0e\")+ \" es: \"+str(result[0]))"
   ]
  },
  {
   "cell_type": "markdown",
   "metadata": {},
   "source": [
    "**GitHub:** git@github.com: dayapt04\n",
    "\n",
    "\n",
    "[GitHub Métodos Númericos - Repositorio](https://github.com/dayapt04/MetodosNumericos)"
   ]
  }
 ],
 "metadata": {
  "kernelspec": {
   "display_name": "Python 3 (ipykernel)",
   "language": "python",
   "name": "python3"
  },
  "language_info": {
   "codemirror_mode": {
    "name": "ipython",
    "version": 3
   },
   "file_extension": ".py",
   "mimetype": "text/x-python",
   "name": "python",
   "nbconvert_exporter": "python",
   "pygments_lexer": "ipython3",
   "version": "3.12.4"
  }
 },
 "nbformat": 4,
 "nbformat_minor": 4
}
